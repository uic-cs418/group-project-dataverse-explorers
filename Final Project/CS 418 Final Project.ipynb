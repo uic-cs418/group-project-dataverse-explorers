{
 "cells": [
  {
   "cell_type": "markdown",
   "id": "090951ea-2678-4eef-94a4-0821e0a4c7ef",
   "metadata": {},
   "source": [
    "# Crime Patterns and Arrest Trends Due to SocioEconomic Disparity: A Data Science Analysis\n",
    "\n",
    "## Project Introduction\n",
    "Our project investigates disparities in crime and arrest trends across neighborhoods in NYC, with a focus on how these trends correlate with income levels, race demographics, and geographic location.\n",
    "\n",
    "### Research Questions\n",
    "- Do crime and arrest rates vary by location?\n",
    "- Do areas with lower income experience higher police activity and crime rates?\n",
    "- Do we see similar trends of systematic discrimination in areas with higher population of people of color?\n",
    "\n",
    "### Data Sources\n",
    "We are using multiple public datasets from data.gov including:\n",
    "- **NYPD Shooting Incident Data**\n",
    "- **NYC Crimes 2001–Present**\n",
    "- **NYC Arrests Data**\n",
    "\n",
    "## Project Status\n",
    "Since our check-in proposal slides, there have been no significant changes to the project scope. Our original objectives—analyzing crime and arrest trends by location, income, and racial demographics—remain intact. We have neither removed nor added major components to the project thus far."
   ]
  },
  {
   "cell_type": "code",
   "execution_count": null,
   "id": "26a7d092-0aa3-4ae0-8960-8d206d90575f",
   "metadata": {},
   "outputs": [],
   "source": []
  }
 ],
 "metadata": {
  "kernelspec": {
   "display_name": "Python [conda env:base] *",
   "language": "python",
   "name": "conda-base-py"
  },
  "language_info": {
   "codemirror_mode": {
    "name": "ipython",
    "version": 3
   },
   "file_extension": ".py",
   "mimetype": "text/x-python",
   "name": "python",
   "nbconvert_exporter": "python",
   "pygments_lexer": "ipython3",
   "version": "3.12.7"
  }
 },
 "nbformat": 4,
 "nbformat_minor": 5
}
