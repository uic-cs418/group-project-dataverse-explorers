{
 "cells": [
  {
   "cell_type": "markdown",
   "id": "090951ea-2678-4eef-94a4-0821e0a4c7ef",
   "metadata": {},
   "source": [
    "# Crime Patterns and Arrest Trends Due to SocioEconomic Disparity: A Data Science Analysis\n",
    "\n",
    "## Project Introduction\n",
    "Our project investigates disparities in crime and arrest trends across neighborhoods in NYC, with a focus on how these trends correlate with income levels, race demographics, and geographic location.\n",
    "\n",
    "### Research Questions\n",
    "- Do crime and arrest rates vary by location?\n",
    "- Do areas with lower income experience higher police activity and crime rates?\n",
    "- Do we see similar trends of systematic discrimination in areas with higher population of people of color?\n",
    "\n",
    "### Data Sources\n",
    "We are using multiple public datasets from data.gov including:\n",
    "- **NYPD Shooting Incident Data**\n",
    "- **NYC Crimes 2001–Present**\n",
    "- **NYC Arrests Data**\n",
    "\n",
    "## Project Status\n",
    "Since our check-in proposal slides, there has been a significant change to the project scope. Initially, we planned to analyze crime and arrest trends using datasets from Chicago. However, due to data limitations, we decided to switch our focus to datasets from the NYPD. This change aligns with our original objective of analyzing crime and arrest trends by location, income, and racial demographics, but with a different geographic focus. Aside from this switch, we have not removed or added any major components to the project thus far.\n"
   ]
  },
  {
   "cell_type": "code",
   "execution_count": 50,
   "id": "c7d2a88c-1511-4a3b-bb2f-b5923b14f618",
   "metadata": {},
   "outputs": [],
   "source": [
    "import pandas as pd\n",
    "import numpy as np\n",
    "import re                        \n",
    "from datetime import datetime\n",
    "import zipfile\n",
    "\n",
    "import matplotlib.pyplot as plt   \n",
    "import seaborn as sns\n",
    "import plotly.express as px \n",
    "\n",
    "from sklearn.model_selection import train_test_split\n",
    "from sklearn.preprocessing import StandardScaler, LabelEncoder, OneHotEncoder\n",
    "from sklearn.impute import SimpleImputer          \n",
    "\n",
    "from sklearn.linear_model import LogisticRegression, LinearRegression\n",
    "from sklearn.tree import DecisionTreeClassifier\n",
    "from sklearn.ensemble import RandomForestClassifier\n",
    "from sklearn.svm import SVC\n",
    "from sklearn.naive_bayes import GaussianNB\n",
    "from sklearn.neighbors import KNeighborsClassifier\n",
    "\n",
    "from sklearn.metrics import accuracy_score, confusion_matrix, classification_report\n",
    "from sklearn.metrics import mean_squared_error, r2_score\n"
   ]
  },
  {
   "cell_type": "code",
   "execution_count": 51,
   "id": "095cb9a8-bdf4-4631-b6d6-0095ac0d55fc",
   "metadata": {},
   "outputs": [
    {
     "name": "stdout",
     "output_type": "stream",
     "text": [
      "   Full Complaint ID  Complaint Year Number  Month Number Record Create Date  Complaint Precinct Code      Patrol Borough Name County Law Code Category Description             Offense Description          PD Code Description     Bias Motive Description             Offense Category Arrest Date  Arrest Id\n",
      "0    202105012245817                   2021             5         05/01/2021                       50        PATROL BORO BRONX  BRONX                        FELONY                        BURGLARY  BURGLARY,UNCLASSIFIED,NIGHT                 ANTI-JEWISH  Religion/Religious Practice  05/01/2021  B33683676\n",
      "1    202105012668317                   2021            12         12/28/2021                       50        PATROL BORO BRONX  BRONX                        FELONY         MISCELLANEOUS PENAL LAW      AGGRAVATED HARASSMENT 1                 ANTI-JEWISH  Religion/Religious Practice  09/28/2022  B34705870\n",
      "2    202204912792117                   2022            10         10/11/2022                       49        PATROL BORO BRONX  BRONX                        FELONY                  FELONY ASSAULT     ASSAULT 2,1,UNCLASSIFIED  ANTI-MALE HOMOSEXUAL (GAY)           Sexual Orientation  10/11/2022  B34707656\n",
      "3    201906112101017                   2019             1         01/15/2019                       61  PATROL BORO BKLYN SOUTH  KINGS                        FELONY  MURDER & NON-NEGL. MANSLAUGHTE          MURDER,UNCLASSIFIED                  ANTI-ASIAN                   Race/Color  01/16/2019  K31675023\n",
      "4    201907112148117                   2019             2         02/08/2019                       71  PATROL BORO BKLYN SOUTH  KINGS                   MISDEMEANOR   OFF. AGNST PUB ORD SENSBLTY &      AGGRAVATED HARASSMENT 2                 ANTI-JEWISH  Religion/Religious Practice  02/08/2019  K31679592\n"
     ]
    }
   ],
   "source": [
    "with zipfile.ZipFile(\"NYPD_Hate_Crimes.zip\", \"r\") as z:\n",
    "    with z.open(\"NYPD_Hate_Crimes.csv\") as f:\n",
    "        df_hate_crimes = pd.read_csv(f)\n",
    "columns_to_drop = ['Complaint Precinct Code', 'Law Code Category Description',  'PD Code Description','Bias Motive Description','Month Number','Patrol Borough Name','Full Complaint ID'\n",
    "]\n",
    "df = df.drop(columns=[col for col in columns_to_drop if col in df.columns])\n",
    "df = df.drop_duplicates()\n",
    "df = df.dropna()\n",
    "print(df_hate_crimes.head())\n"
   ]
  },
  {
   "cell_type": "code",
   "execution_count": 52,
   "id": "086ef2e9-1ae7-4ece-82b8-465e6577a4da",
   "metadata": {},
   "outputs": [
    {
     "name": "stdout",
     "output_type": "stream",
     "text": [
      "Cleaned Arrest DataFrame:\n",
      "   ARREST_KEY ARREST_DATE       OFNS_DESC ARREST_BORO  ARREST_PRECINCT AGE_GROUP PERP_SEX PERP_RACE\n",
      "0   281369711  01/30/2024      SEX CRIMES           M               25     25-44        M     BLACK\n",
      "1   284561406  03/30/2024  FELONY ASSAULT           B               44     25-44        M     BLACK\n",
      "2   284896016  04/06/2024  FELONY ASSAULT           M               19     25-44        M     BLACK\n",
      "3   285569016  04/18/2024  FELONY ASSAULT           K               69     25-44        M     BLACK\n",
      "4   287308954  05/22/2024        JOSTLING           M               18     18-24        M     WHITE\n"
     ]
    }
   ],
   "source": [
    "with zipfile.ZipFile(\"NYPD_Arrest_Data__Year_to_Date_.zip\", \"r\") as z:\n",
    "    with z.open(\"NYPD_Arrest_Data__Year_to_Date_.csv\") as f:\n",
    "        df_arrest = pd.read_csv(f)\n",
    "df_shooting.replace(\"(null)\", np.nan, inplace=True)\n",
    "#print(\"Columns in the Arrest DataFrame:\")\n",
    "#print(df_arrest.columns)\n",
    "columns_to_drop = ['PD_CD', 'PD_DESC', 'KY_CD', 'LAW_CODE', 'LAW_CAT_CD','JURISDICTION_CODE', 'X_COORD_CD', 'Y_COORD_CD','Latitude', 'Longitude', 'New Georeferenced Column'\n",
    "]\n",
    "columns_to_drop = [col for col in columns_to_drop if col in df_arrest.columns]\n",
    "#print(f\"Columns to drop: {columns_to_drop}\")\n",
    "df_arrest.drop(columns=columns_to_drop, inplace=True)\n",
    "df_arrest.dropna(inplace=True)\n",
    "print(\"Cleaned Arrest DataFrame:\")\n",
    "print(df_arrest.head())"
   ]
  },
  {
   "cell_type": "code",
   "execution_count": 53,
   "id": "73fccdd7-67d7-4364-b3d9-81e1939755d9",
   "metadata": {},
   "outputs": [
    {
     "name": "stdout",
     "output_type": "stream",
     "text": [
      "   OCCUR_DATE      BORO VIC_RACE VIC_AGE_GROUP VIC_SEX PERP_SEX       PERP_RACE  PRECINCT\n",
      "1  04/07/2018  BROOKLYN    BLACK         25-44       M        M  WHITE HISPANIC        79\n",
      "3  11/19/2006  BROOKLYN    BLACK         18-24       M        U         UNKNOWN        66\n",
      "4  05/09/2010     BRONX    BLACK           <18       F        M           BLACK        46\n",
      "5  07/22/2012     BRONX    BLACK         18-24       M        M           BLACK        42\n",
      "8  04/21/2015  BROOKLYN    BLACK         25-44       M        M           BLACK        75\n"
     ]
    }
   ],
   "source": [
    "df_shooting = pd.read_csv(\"NYPD_shooting_incident_data__Historic__.csv\")\n",
    "df_shooting.replace(\"(null)\", np.nan, inplace=True)\n",
    "columns_to_keep = ['OCCUR_DATE', 'BORO', 'VIC_RACE', 'VIC_AGE_GROUP', 'VIC_SEX', 'PERP_SEX', 'PERP_RACE', 'PRECINCT']\n",
    "df_shooting = df_shooting[columns_to_keep]\n",
    "df_shooting.dropna(inplace=True)\n",
    "print(df_shooting.head())"
   ]
  },
  {
   "cell_type": "code",
   "execution_count": null,
   "id": "78f2d1e1-b3cc-45ba-8df8-32ad0253119e",
   "metadata": {},
   "outputs": [],
   "source": []
  }
 ],
 "metadata": {
  "kernelspec": {
   "display_name": "Python 3 (ipykernel)",
   "language": "python",
   "name": "python3"
  },
  "language_info": {
   "codemirror_mode": {
    "name": "ipython",
    "version": 3
   },
   "file_extension": ".py",
   "mimetype": "text/x-python",
   "name": "python",
   "nbconvert_exporter": "python",
   "pygments_lexer": "ipython3",
   "version": "3.12.7"
  }
 },
 "nbformat": 4,
 "nbformat_minor": 5
}
