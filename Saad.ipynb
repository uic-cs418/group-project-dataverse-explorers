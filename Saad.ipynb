{
 "cells": [
  {
   "cell_type": "code",
   "execution_count": 1,
   "id": "dc439924-fe01-4da7-8cb5-cce3f1ee54f0",
   "metadata": {},
   "outputs": [
    {
     "name": "stdout",
     "output_type": "stream",
     "text": [
      "   ARREST_KEY       DATE OFNS_DESC   BORO  ARREST_PRECINCT AGE_GROUP  \\\n",
      "0         NaN 2006-01-01       NaN  BRONX              NaN       NaN   \n",
      "1         NaN 2006-01-01       NaN  BRONX              NaN       NaN   \n",
      "\n",
      "  PERP_SEX_x PERP_RACE_x        VIC_RACE VIC_AGE_GROUP VIC_SEX PERP_SEX_y  \\\n",
      "0        NaN         NaN           BLACK           <18       M          M   \n",
      "1        NaN         NaN  WHITE HISPANIC         18-24       M          M   \n",
      "\n",
      "      PERP_RACE_y  PRECINCT  Complaint Year Number Record Create Date  \\\n",
      "0           BLACK      48.0                    NaN                NaN   \n",
      "1  WHITE HISPANIC      44.0                    NaN                NaN   \n",
      "\n",
      "  Offense Description Offense Category Arrest Id  \n",
      "0                 NaN              NaN       NaN  \n",
      "1                 NaN              NaN       NaN  \n",
      "   ARREST_KEY       DATE OFNS_DESC   BORO  ARREST_PRECINCT AGE_GROUP  \\\n",
      "0         NaN 2006-01-01       NaN  BRONX              NaN       NaN   \n",
      "1         NaN 2006-01-01       NaN  BRONX              NaN       NaN   \n",
      "\n",
      "  PERP_SEX_x PERP_RACE_x        VIC_RACE VIC_AGE_GROUP VIC_SEX PERP_SEX_y  \\\n",
      "0        NaN         NaN           BLACK           <18       M          M   \n",
      "1        NaN         NaN  WHITE HISPANIC         18-24       M          M   \n",
      "\n",
      "      PERP_RACE_y  PRECINCT  Complaint Year Number Record Create Date  \\\n",
      "0           BLACK      48.0                    NaN                NaN   \n",
      "1  WHITE HISPANIC      44.0                    NaN                NaN   \n",
      "\n",
      "  Offense Description Offense Category Arrest Id  \n",
      "0                 NaN              NaN       NaN  \n",
      "1                 NaN              NaN       NaN  \n"
     ]
    },
    {
     "data": {
      "text/plain": [
       "<module 'Saad' from '/Users/saadchadrawala/Documents/UIC 2025 Spring Semester/CS 418/Final Project/Saad.py'>"
      ]
     },
     "execution_count": 1,
     "metadata": {},
     "output_type": "execute_result"
    }
   ],
   "source": [
    "import pandas as pd\n",
    "import Saad\n",
    "import importlib\n",
    "importlib.reload(Saad)\n"
   ]
  },
  {
   "cell_type": "code",
   "execution_count": 7,
   "id": "ecacbc91-4fc7-4dc5-9e0f-f0a2f5acd265",
   "metadata": {},
   "outputs": [],
   "source": [
    "merged_df = pd.read_csv(\"merged_nypd_data.csv\", low_memory=False)\n"
   ]
  },
  {
   "cell_type": "code",
   "execution_count": 9,
   "id": "9ee87863-a7f6-4d72-8cf7-274043f86bb4",
   "metadata": {},
   "outputs": [
    {
     "name": "stdout",
     "output_type": "stream",
     "text": [
      "Perp Race:\n",
      "PERP_RACE_y\n",
      "BLACK                             11967\n",
      "WHITE HISPANIC                     2517\n",
      "UNKNOWN                            1837\n",
      "BLACK HISPANIC                     1398\n",
      "WHITE                               298\n",
      "ASIAN / PACIFIC ISLANDER            170\n",
      "AMERICAN INDIAN/ALASKAN NATIVE        2\n",
      "Name: count, dtype: int64\n"
     ]
    }
   ],
   "source": [
    "print(\"Perp Race:\")\n",
    "print(Saad.get_perp_race_counts(merged_df))"
   ]
  },
  {
   "cell_type": "code",
   "execution_count": 11,
   "id": "a46c9acc-5dbb-4f97-a4f7-cc0bac847536",
   "metadata": {},
   "outputs": [
    {
     "name": "stdout",
     "output_type": "stream",
     "text": [
      "Precinct Counts:\n",
      "PRECINCT\n",
      "75.0     1004\n",
      "73.0      852\n",
      "46.0      720\n",
      "47.0      717\n",
      "44.0      699\n",
      "         ... \n",
      "112.0      19\n",
      "19.0       16\n",
      "17.0        7\n",
      "111.0       4\n",
      "22.0        1\n",
      "Name: count, Length: 77, dtype: int64\n"
     ]
    }
   ],
   "source": [
    "print(\"Precinct Counts:\")\n",
    "print(Saad.get_precinct_counts(merged_df))"
   ]
  },
  {
   "cell_type": "code",
   "execution_count": 13,
   "id": "2dd14796-ea0a-4bf2-b5bd-b45c6b863d1d",
   "metadata": {},
   "outputs": [
    {
     "name": "stdout",
     "output_type": "stream",
     "text": [
      "Offense Description Counts:\n",
      "OFNS_DESC\n",
      "ASSAULT 3 & RELATED OFFENSES        38238\n",
      "PETIT LARCENY                       27107\n",
      "FELONY ASSAULT                      22606\n",
      "DANGEROUS DRUGS                     18519\n",
      "MISCELLANEOUS PENAL LAW             16541\n",
      "VEHICLE AND TRAFFIC LAWS            13783\n",
      "OTHER OFFENSES RELATED TO THEFT     12621\n",
      "ROBBERY                             12020\n",
      "CRIMINAL MISCHIEF & RELATED OF      11854\n",
      "GRAND LARCENY                       11804\n",
      "DANGEROUS WEAPONS                   10780\n",
      "OFFENSES AGAINST PUBLIC ADMINI       8712\n",
      "BURGLARY                             6450\n",
      "SEX CRIMES                           5940\n",
      "FORGERY                              4961\n",
      "OFFENSES INVOLVING FRAUD             4611\n",
      "OFF. AGNST PUB ORD SENSBLTY &        4274\n",
      "POSSESSION OF STOLEN PROPERTY        4050\n",
      "OTHER STATE LAWS                     3940\n",
      "CRIMINAL TRESPASS                    2769\n",
      "INTOXICATED & IMPAIRED DRIVING       2601\n",
      "OTHER TRAFFIC INFRACTION             2352\n",
      "GRAND LARCENY OF MOTOR VEHICLE       2086\n",
      "OFFENSES AGAINST THE PERSON          1716\n",
      "MURDER & NON-NEGL. MANSLAUGHTE       1601\n",
      "FOR OTHER AUTHORITIES                1390\n",
      "FRAUDS                               1020\n",
      "RAPE                                  792\n",
      "BURGLAR'S TOOLS                       739\n",
      "UNAUTHORIZED USE OF A VEHICLE         557\n",
      "OTHER STATE LAWS (NON PENAL LAW)      453\n",
      "PROSTITUTION & RELATED OFFENSES       439\n",
      "CANNABIS RELATED OFFENSES             397\n",
      "DISORDERLY CONDUCT                    375\n",
      "GAMBLING                              352\n",
      "OFFENSES AGAINST PUBLIC SAFETY        275\n",
      "INTOXICATED/IMPAIRED DRIVING          265\n",
      "THEFT-FRAUD                           209\n",
      "ALCOHOLIC BEVERAGE CONTROL LAW        193\n",
      "ADMINISTRATIVE CODE                   159\n",
      "KIDNAPPING & RELATED OFFENSES         131\n",
      "ARSON                                 121\n",
      "JOSTLING                              116\n",
      "HARRASSMENT 2                          96\n",
      "OFFENSES RELATED TO CHILDREN           84\n",
      "CHILD ABANDONMENT/NON SUPPORT 1        84\n",
      "MOVING INFRACTIONS                     78\n",
      "ANTICIPATORY OFFENSES                  69\n",
      "HOMICIDE-NEGLIGENT,UNCLASSIFIE         60\n",
      "FRAUDULENT ACCOSTING                   44\n",
      "ESCAPE 3                               12\n",
      "HOMICIDE-NEGLIGENT-VEHICLE              8\n",
      "DISRUPTION OF A RELIGIOUS SERV          6\n",
      "LOITERING/GAMBLING (CARDS, DIC          3\n",
      "ADMINISTRATIVE CODES                    2\n",
      "LOITERING                               2\n",
      "PARKING OFFENSES                        2\n",
      "FORTUNE TELLING                         1\n",
      "NEW YORK CITY HEALTH CODE               1\n",
      "Name: count, dtype: int64\n"
     ]
    }
   ],
   "source": [
    "print(\"Offense Description Counts:\")\n",
    "print(Saad.get_offense_desc_counts(merged_df))"
   ]
  },
  {
   "cell_type": "code",
   "execution_count": 15,
   "id": "72e31fea-43a8-4be2-9640-34c32fa3d3ed",
   "metadata": {},
   "outputs": [
    {
     "name": "stdout",
     "output_type": "stream",
     "text": [
      "Boro Counts:\n",
      "BORO\n",
      "BROOKLYN         79430\n",
      "MANHATTAN        65085\n",
      "BRONX            64112\n",
      "QUEENS           59612\n",
      "STATEN ISLAND    11736\n",
      "Name: count, dtype: int64\n"
     ]
    }
   ],
   "source": [
    "print(\"Boro Counts:\")\n",
    "print(Saad.get_boro_counts(merged_df))"
   ]
  },
  {
   "cell_type": "code",
   "execution_count": 17,
   "id": "5bceb394-e4e2-4da8-933d-bf768a46e2fa",
   "metadata": {},
   "outputs": [
    {
     "name": "stdout",
     "output_type": "stream",
     "text": [
      "Age Group Counts:\n",
      "AGE_GROUP\n",
      "25-44    152014\n",
      "45-64     51116\n",
      "18-24     43169\n",
      "<18        9523\n",
      "65+        4649\n",
      "Name: count, dtype: int64\n"
     ]
    }
   ],
   "source": [
    "print(\"Age Group Counts:\")\n",
    "print(Saad.get_age_group_counts(merged_df))"
   ]
  },
  {
   "cell_type": "code",
   "execution_count": 19,
   "id": "4e3d5629-9917-473b-a738-046223c5b060",
   "metadata": {},
   "outputs": [
    {
     "name": "stdout",
     "output_type": "stream",
     "text": [
      "Sex Counts:\n",
      "PERP_SEX_y\n",
      "M    16226\n",
      "U     1499\n",
      "F      464\n",
      "Name: count, dtype: int64\n"
     ]
    }
   ],
   "source": [
    "print(\"Sex Counts:\")\n",
    "print(Saad.get_sex_counts(merged_df))"
   ]
  },
  {
   "cell_type": "markdown",
   "id": "884e9376-f35d-4588-a224-c4239515938f",
   "metadata": {},
   "source": [
    "# Exploratory Data Analysis: Merged DATASET\n",
    "This EDA explores a dataset of arrest records from NYC, including details about arrests, perpetrators, victims, and locations. We highlight key trends and summarize the dataset below.\n",
    "#### Data Description\n",
    "The dataset contains the following columns:\n",
    "**ARREST_KEY:** A unique identifier for each arrest.  **DATE:** The date of the arrest or incident. **OFNS_DESC:** Offense description. **BORO:** The NYC borough where the arrest occurred. **ARREST_PRECINCT:** The precinct where the arrest was made. **AGE_GROUP:** Age group of the perpetrator. **PERP_SEX_x:** Sex of the perpetrator. **PERP_RACE_x:** Race of the perpetrator. **VIC_RACE:** Race of the victim. **VIC_AGE_GROUP:** Age group of the victim. **VIC_SEX:** Sex of the victim. **PERP_SEX_y:** Another column for perpetrator sex.**PERP_RACE_y:** Another column for perpetrator race. **PRECINCT:** Precinct number, likely related to the incident. **Complaint Year Number:** Year of the complaint. **Record Create Date:** Date the record was created. **Offense Description:** Detailed offense description.**Offense Category:** Category of the offense. **Arrest Id:** Another identifier for the arrest.\n",
    "#### FINDINGS OF MERGED DATA \n",
    "##### 1. **Racial Distribution of Crime Perpetrators(PERP_RACE_y)?**\n",
    "- **BLACK:** 11,967 incidents **WHITE HISPANIC:** 2,517 incidents **UNKNOWN:** 1,837 incidents **BLACK HISPANIC:** 1,398 incidents **WHITE:** 298 incidents **ASIAN / PACIFIC ISLANDER:** 170 incidents **AMERICAN INDIAN/ALASKAN NATIVE:** 2 incidents\n",
    "##### 2. **Racial Distribution of Crime Victims (VIC_RACE)**\n",
    "- **BLACK:** 12,335 victims **WHITE HISPANIC:** 3,064 victims **BLACK HISPANIC:** 1,852 victims **WHITE:** 563 victims **ASIAN / PACIFIC ISLANDER:** 316 victims **UNKNOWN:** 51 victims **AMERICAN INDIAN/ALASKAN NATIVE:** 8 victims\n",
    "##### 3. **Borough Distribution:**\n",
    "- **Brooklyn (K):** 72,325 incidents **Manhattan (M):** 61,969 incidents **Bronx (B):** 58,521 incidents **Queens (Q):** 56,633 incidents **Staten Island (S):** 11,055 incidents\n",
    "##### 4. **Age Group Distribution:**\n",
    "- **25-44 years:** 152,034 incidents **45-64 years:** 51,121 incidents **18-24 years:** 43,174 incidents **Under 18 years:** 9,525 incidents **65+ years:** 4,649 incidents\n",
    "#### Preliminary Conclusions\n",
    "- **Victim Profile:** Most victims are male, with **Black** being the most common race among victims in the sample.\n",
    "- **Perpetrator Profile:** Perpetrators are predominantly **male**, and the most common races among perpetrators are **Black** and **White Hispanic**."
   ]
  }
 ],
 "metadata": {
  "kernelspec": {
   "display_name": "Python [conda env:base] *",
   "language": "python",
   "name": "conda-base-py"
  },
  "language_info": {
   "codemirror_mode": {
    "name": "ipython",
    "version": 3
   },
   "file_extension": ".py",
   "mimetype": "text/x-python",
   "name": "python",
   "nbconvert_exporter": "python",
   "pygments_lexer": "ipython3",
   "version": "3.12.7"
  }
 },
 "nbformat": 4,
 "nbformat_minor": 5
}
