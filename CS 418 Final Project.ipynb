{
 "cells": [
  {
   "cell_type": "markdown",
   "id": "090951ea-2678-4eef-94a4-0821e0a4c7ef",
   "metadata": {},
   "source": [
    "## Crime Patterns and Arrest Trends Due to SocioEconomic Disparity: A Data Science Analysis\n",
    "### Project Introduction\n",
    "Our project investigates disparities in crime and arrest trends across neighborhoods in NYC, with a focus on how these trends correlate with income levels, race demographics, and geographic location.\n",
    "#### Research Questions\n",
    "- **Do crime and arrest rates vary by location?** | **Do areas with lower income experience higher police activity and crime rates?** | **Do we see similar trends of systematic discrimination in areas with higher population of people of color?**\n",
    "#### Data Sources\n",
    "- **NYPD Shooting Incident | Data** **NYC Crimes 2001–Present** |  **NYC Arrests Data**\n",
    "### Project Status\n",
    "Since our check-in proposal slides, there has been a significant change to the project scope. Initially, we planned to analyze crime and arrest trends using datasets from Chicago. However, due to data limitations, we decided to switch our focus to datasets from the NYPD. This change aligns with our original objective of analyzing crime and arrest trends by location,and racial demographics."
   ]
  },
  {
   "cell_type": "code",
   "execution_count": 406,
   "id": "c7d2a88c-1511-4a3b-bb2f-b5923b14f618",
   "metadata": {},
   "outputs": [],
   "source": [
    "import pandas as pd\n",
    "import numpy as np\n",
    "import re                        \n",
    "from datetime import datetime\n",
    "import zipfile\n",
    "import matplotlib.pyplot as plt   \n",
    "import seaborn as sns\n",
    "import plotly.express as px"
   ]
  },
  {
   "cell_type": "code",
   "execution_count": 408,
   "id": "095cb9a8-bdf4-4631-b6d6-0095ac0d55fc",
   "metadata": {},
   "outputs": [],
   "source": [
    "with zipfile.ZipFile(\"NYPD_Hate_Crimes.zip\", \"r\") as z:\n",
    "    with z.open(\"NYPD_Hate_Crimes.csv\") as f:\n",
    "        df_hate_crimes = pd.read_csv(f)\n",
    "columns_to_drop = ['Complaint Precinct Code', 'Law Code Category Description',  'PD Code Description','Bias Motive Description','Month Number','Patrol Borough Name','Full Complaint ID']\n",
    "df_hate_crimes = df_hate_crimes.drop(columns=[col for col in columns_to_drop if col in  df_hate_crimes.columns])\n",
    "df_hate_crimes = df_hate_crimes.drop_duplicates()\n",
    "df_hate_crimes = df_hate_crimes.dropna()\n",
    "#print(df_hate_crimes.head())"
   ]
  },
  {
   "cell_type": "code",
   "execution_count": 410,
   "id": "086ef2e9-1ae7-4ece-82b8-465e6577a4da",
   "metadata": {},
   "outputs": [],
   "source": [
    "with zipfile.ZipFile(\"NYPD_Arrest_Data__Year_to_Date_.zip\", \"r\") as z:\n",
    "    with z.open(\"NYPD_Arrest_Data__Year_to_Date_.csv\") as f:\n",
    "        df_arrest = pd.read_csv(f)\n",
    "df_arrest.replace(\"(null)\", np.nan, inplace=True)\n",
    "#print(\"Columns in the Arrest DataFrame:\")\n",
    "#print(df_arrest.columns)\n",
    "columns_to_drop = ['PD_CD', 'PD_DESC', 'KY_CD', 'LAW_CODE', 'LAW_CAT_CD','JURISDICTION_CODE', 'X_COORD_CD', 'Y_COORD_CD','Latitude', 'Longitude', 'New Georeferenced Column'\n",
    "]\n",
    "columns_to_drop = [col for col in columns_to_drop if col in df_arrest.columns]\n",
    "#print(f\"Columns to drop: {columns_to_drop}\")\n",
    "df_arrest.drop(columns=columns_to_drop, inplace=True)\n",
    "df_arrest.dropna(inplace=True)\n",
    "#print(\"Cleaned Arrest DataFrame:\")\n",
    "#print(df_arrest.head())"
   ]
  },
  {
   "cell_type": "code",
   "execution_count": 411,
   "id": "73fccdd7-67d7-4364-b3d9-81e1939755d9",
   "metadata": {},
   "outputs": [],
   "source": [
    "df_shooting = pd.read_csv(\"NYPD_shooting_incident_data__Historic__.csv\")\n",
    "df_shooting.replace(\"(null)\", np.nan, inplace=True)\n",
    "columns_to_keep = ['OCCUR_DATE', 'BORO', 'VIC_RACE', 'VIC_AGE_GROUP', 'VIC_SEX', 'PERP_SEX', 'PERP_RACE', 'PRECINCT']\n",
    "df_shooting = df_shooting[columns_to_keep]\n",
    "df_shooting.dropna(inplace=True)\n",
    "#print(df_shooting.head())"
   ]
  },
  {
   "cell_type": "code",
   "execution_count": 412,
   "id": "73f3f046-b300-4a0d-99cb-c71c5bc97a0c",
   "metadata": {},
   "outputs": [
    {
     "name": "stdout",
     "output_type": "stream",
     "text": [
      "   ARREST_KEY       DATE OFNS_DESC   BORO  ARREST_PRECINCT AGE_GROUP PERP_SEX_x PERP_RACE_x        VIC_RACE VIC_AGE_GROUP VIC_SEX PERP_SEX_y     PERP_RACE_y  PRECINCT  Complaint Year Number Record Create Date Offense Description Offense Category Arrest Id\n",
      "0         NaN 2006-01-01       NaN  BRONX              NaN       NaN        NaN         NaN           BLACK           <18       M          M           BLACK      48.0                    NaN                NaN                 NaN              NaN       NaN\n",
      "1         NaN 2006-01-01       NaN  BRONX              NaN       NaN        NaN         NaN  WHITE HISPANIC         18-24       M          M  WHITE HISPANIC      44.0                    NaN                NaN                 NaN              NaN       NaN\n"
     ]
    }
   ],
   "source": [
    "df_hate_crimes.rename(columns={'Arrest Date': 'DATE', 'County': 'BORO'}, inplace=True)\n",
    "df_hate_crimes['DATE'] = pd.to_datetime(df_hate_crimes['DATE'])\n",
    "df_arrest.rename(columns={'ARREST_DATE': 'DATE', 'ARREST_BORO': 'BORO'}, inplace=True)\n",
    "df_arrest['DATE'] = pd.to_datetime(df_arrest['DATE'])\n",
    "df_shooting.rename(columns={'OCCUR_DATE': 'DATE'}, inplace=True)\n",
    "df_shooting['DATE'] = pd.to_datetime(df_shooting['DATE'])\n",
    "merged_df = pd.merge(df_arrest, df_shooting, on=['DATE', 'BORO'], how='outer')\n",
    "merged_df = pd.merge(merged_df, df_hate_crimes, on=['DATE', 'BORO'], how='outer')\n",
    "#print(merged_df.head())\n",
    "merged_df.to_csv(\"merged_nypd_data.csv\", index=False)\n",
    "print(merged_df.head(2))"
   ]
  },
  {
   "cell_type": "code",
   "execution_count": 413,
   "id": "6efb3169-8392-4999-beff-c4b520e2142b",
   "metadata": {},
   "outputs": [],
   "source": [
    "race_counts = merged_df['PERP_RACE_y'].value_counts()\n",
    "#print(race_counts)\n",
    "race_counts = merged_df['VIC_RACE'].value_counts()\n",
    "#print(race_counts)\n",
    "sex_counts = merged_df['PERP_SEX_y'].value_counts()\n",
    "#print(sex_counts)\n",
    "age_group_counts = merged_df['AGE_GROUP'].value_counts()\n",
    "#print(age_group_counts)\n",
    "age_group_counts = merged_df['AGE_GROUP'].value_counts()\n",
    "#print(age_group_counts)\n",
    "merged_df['BORO'] = merged_df['BORO'].replace({\n",
    "    'K': 'BROOKLYN', \n",
    "    'M': 'MANHATTAN', \n",
    "    'B': 'BRONX', \n",
    "    'Q': 'QUEENS', \n",
    "    'S': 'STATEN ISLAND',\n",
    "    'KINGS': 'BROOKLYN',\n",
    "    'NEW YORK': 'MANHATTAN',\n",
    "    'RICHMOND': 'STATEN ISLAND'})\n",
    "boro_counts = merged_df['BORO'].value_counts()\n",
    "#print(boro_counts)\n",
    "offense_desc_counts = merged_df['OFNS_DESC'].value_counts()\n",
    "#print(offense_desc_counts)\n",
    "precinct_counts = merged_df['PRECINCT'].value_counts()\n",
    "#print(precinct_counts)"
   ]
  },
  {
   "cell_type": "markdown",
   "id": "27b331e7-2f4d-4430-9561-ba0d3c7c6330",
   "metadata": {},
   "source": [
    "# Exploratory Data Analysis: Merged DATASET\n",
    "This EDA explores a dataset of arrest records from NYC, including details about arrests, perpetrators, victims, and locations. We highlight key trends and summarize the dataset below.\n",
    "#### Data Description\n",
    "The dataset contains the following columns:\n",
    "**ARREST_KEY:** A unique identifier for each arrest.  **DATE:** The date of the arrest or incident. **OFNS_DESC:** Offense description. **BORO:** The NYC borough where the arrest occurred. **ARREST_PRECINCT:** The precinct where the arrest was made. **AGE_GROUP:** Age group of the perpetrator. **PERP_SEX_x:** Sex of the perpetrator. **PERP_RACE_x:** Race of the perpetrator. **VIC_RACE:** Race of the victim. **VIC_AGE_GROUP:** Age group of the victim. **VIC_SEX:** Sex of the victim. **PERP_SEX_y:** Another column for perpetrator sex.**PERP_RACE_y:** Another column for perpetrator race. **PRECINCT:** Precinct number, likely related to the incident. **Complaint Year Number:** Year of the complaint. **Record Create Date:** Date the record was created. **Offense Description:** Detailed offense description.**Offense Category:** Category of the offense. **Arrest Id:** Another identifier for the arrest.\n",
    "#### FINDINGS OF MERGED DATA \n",
    "##### 1. **Racial Distribution of Crime Perpetrators(PERP_RACE_y)?**\n",
    "- **BLACK:** 11,967 incidents **WHITE HISPANIC:** 2,517 incidents **UNKNOWN:** 1,837 incidents **BLACK HISPANIC:** 1,398 incidents **WHITE:** 298 incidents **ASIAN / PACIFIC ISLANDER:** 170 incidents **AMERICAN INDIAN/ALASKAN NATIVE:** 2 incidents\n",
    "##### 2. **Racial Distribution of Crime Victims (VIC_RACE)**\n",
    "- **BLACK:** 12,335 victims **WHITE HISPANIC:** 3,064 victims **BLACK HISPANIC:** 1,852 victims **WHITE:** 563 victims **ASIAN / PACIFIC ISLANDER:** 316 victims **UNKNOWN:** 51 victims **AMERICAN INDIAN/ALASKAN NATIVE:** 8 victims\n",
    "##### 3. **Borough Distribution:**\n",
    "- **Brooklyn (K):** 72,325 incidents **Manhattan (M):** 61,969 incidents **Bronx (B):** 58,521 incidents **Queens (Q):** 56,633 incidents **Staten Island (S):** 11,055 incidents\n",
    "##### 4. **Age Group Distribution:**\n",
    "- **25-44 years:** 152,034 incidents **45-64 years:** 51,121 incidents **18-24 years:** 43,174 incidents **Under 18 years:** 9,525 incidents **65+ years:** 4,649 incidents\n",
    "#### Preliminary Conclusions\n",
    "- **Victim Profile:** Most victims are male, with **Black** being the most common race among victims in the sample.\n",
    "- **Perpetrator Profile:** Perpetrators are predominantly **male**, and the most common races among perpetrators are **Black** and **White Hispanic**."
   ]
  },
  {
   "cell_type": "code",
   "execution_count": 429,
   "id": "0e59c590-5825-4303-9ae8-4bfcc9b10c15",
   "metadata": {},
   "outputs": [
    {
     "data": {
      "image/png": "[encoded data removed]",
      "text/plain": [
       "<Figure size 1000x400 with 1 Axes>"
      ]
     },
     "metadata": {},
     "output_type": "display_data"
    }
   ],
   "source": [
    "bias_race_boro = merged_df[['PERP_RACE_y', 'BORO']].dropna()\n",
    "race_boro_counts = bias_race_boro.groupby(['PERP_RACE_y', 'BORO']).size().reset_index(name='Arrest Count')\n",
    "plt.figure(figsize=(10, 4))\n",
    "sns.barplot(data=race_boro_counts, x='PERP_RACE_y', y='Arrest Count', hue='BORO', palette='Set1')\n",
    "plt.title('Are racially-biased arrests higher in certain NYC Boroughs?' )\n",
    "plt.xlabel('Race')\n",
    "plt.ylabel('Number of Arrests')\n",
    "plt.xticks(fontsize=6)\n",
    "plt.tight_layout()\n",
    "plt.show()"
   ]
  },
  {
   "cell_type": "code",
   "execution_count": 431,
   "id": "096009fc-d533-4478-b008-327652393b13",
   "metadata": {},
   "outputs": [
    {
     "name": "stdout",
     "output_type": "stream",
     "text": [
      "Random Forest Classification Report:\n",
      "                                     precision    recall  f1-score   support\n",
      "\n",
      "Ethnicity/National Origin/Ancestry       0.48      0.40      0.44        35\n",
      "                            Gender       0.33      0.06      0.11        16\n",
      "                        Race/Color       0.46      0.53      0.49        75\n",
      "       Religion/Religious Practice       0.58      0.75      0.65       126\n",
      "                Sexual Orientation       0.31      0.11      0.16        45\n",
      "\n",
      "                          accuracy                           0.52       297\n",
      "                         macro avg       0.43      0.37      0.37       297\n",
      "                      weighted avg       0.48      0.52      0.48       297\n",
      "\n",
      "Accuracy:  0.5185185185185185\n",
      "\n",
      " Baseline Accuracy (Most Frequent Class): 0.42424242424242425\n"
     ]
    }
   ],
   "source": [
    "import numpy as np\n",
    "from sklearn.model_selection import train_test_split\n",
    "from sklearn.impute import SimpleImputer\n",
    "from sklearn.ensemble import RandomForestClassifier\n",
    "from sklearn.metrics import classification_report, accuracy_score\n",
    "from sklearn.dummy import DummyClassifier\n",
    "dtype_dict = {'VIC_RACE': str,'VIC_AGE_GROUP': str,'VIC_SEX': str,'PERP_SEX_y': str,'PERP_RACE_y': str,'PRECINCT': float,'Complaint Year Number': str,'Record Create Date': str,'Arrest Id': str,'Offense Description': str,'Offense Category': str\n",
    "}\n",
    "df = pd.read_csv(\"merged_nypd_data.csv\", dtype=dtype_dict, low_memory=False)\n",
    "df.drop(columns=[\n",
    "    'ARREST_KEY', 'DATE', 'Record Create Date', 'Arrest Id',\n",
    "    'Complaint Year Number', 'PERP_SEX_x', 'PERP_RACE_x',\n",
    "    'CS 418 Final Project.ipynb'\n",
    "], inplace=True, errors='ignore')\n",
    "df = df.dropna(subset=['Offense Category'])\n",
    "df = df.loc[:, df.notna().any()]\n",
    "imputer = SimpleImputer(strategy='most_frequent')\n",
    "df_imputed_array = imputer.fit_transform(df)\n",
    "valid_columns = df.columns[imputer.statistics_ != None]\n",
    "df_imputed = pd.DataFrame(df_imputed_array, columns=valid_columns)\n",
    "df_encoded = pd.get_dummies(df_imputed)\n",
    "target_cols = [col for col in df_encoded.columns if col.startswith('Offense Category_')]\n",
    "X = df_encoded.drop(columns=target_cols)\n",
    "y = df_encoded[target_cols].idxmax(axis=1).str.replace('Offense Category_', '')\n",
    "X_train, X_test, y_train, y_test = train_test_split(X, y, test_size=0.2, random_state=42)\n",
    "clf = RandomForestClassifier(random_state=42)\n",
    "clf.fit(X_train, y_train)\n",
    "y_pred = clf.predict(X_test)\n",
    "dummy = DummyClassifier(strategy='most_frequent')\n",
    "dummy.fit(X_train, y_train)\n",
    "y_dummy = dummy.predict(X_test)\n",
    "print(\"Random Forest Classification Report:\\n\", classification_report(y_test, y_pred))\n",
    "print(\"Accuracy: \", accuracy_score(y_test, y_pred))\n",
    "print(\"\\n Baseline Accuracy (Most Frequent Class):\", accuracy_score(y_test, y_dummy))"
   ]
  },
  {
   "cell_type": "markdown",
   "id": "304a7a75-e39f-476f-bdc8-4e31d62959f6",
   "metadata": {},
   "source": [
    "REFLECTION:\n",
    "In our final project, we've tackled challenges with integrating complex NYPD data sets, uncovering crime rate patterns and arrest biases which highlight socio-economic impacts. We've managed initial visualizations and are now focused on enhancing our machine learning model's predictive accuracy, which is currently underperforming. As we slightly lag behind schedule in model analysis, no major changes to the project scope are planned yet. Our next steps include refining data processes and drafting our final report, relying on our team's strong collaboration to navigate these challenges."
   ]
  }
 ],
 "metadata": {
  "kernelspec": {
   "display_name": "Python [conda env:base] *",
   "language": "python",
   "name": "conda-base-py"
  },
  "language_info": {
   "codemirror_mode": {
    "name": "ipython",
    "version": 3
   },
   "file_extension": ".py",
   "mimetype": "text/x-python",
   "name": "python",
   "nbconvert_exporter": "python",
   "pygments_lexer": "ipython3",
   "version": "3.12.7"
  }
 },
 "nbformat": 4,
 "nbformat_minor": 5
}
