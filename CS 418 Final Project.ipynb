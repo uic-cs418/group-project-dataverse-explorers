{
 "cells": [
  {
   "cell_type": "code",
   "execution_count": 2,
   "id": "0083836f-57a7-4ac4-b6b5-46c70309d6b8",
   "metadata": {},
   "outputs": [],
   "source": [
    "#Created jupyter notebook"
   ]
  }
 ],
 "metadata": {
  "kernelspec": {
   "display_name": "Python [conda env:base] *",
   "language": "python",
   "name": "conda-base-py"
  },
  "language_info": {
   "codemirror_mode": {
    "name": "ipython",
    "version": 3
   },
   "file_extension": ".py",
   "mimetype": "text/x-python",
   "name": "python",
   "nbconvert_exporter": "python",
   "pygments_lexer": "ipython3",
   "version": "3.12.7"
  }
 },
 "nbformat": 4,
 "nbformat_minor": 5
}
