{
 "cells": [
  {
   "cell_type": "markdown",
   "id": "090951ea-2678-4eef-94a4-0821e0a4c7ef",
   "metadata": {},
   "source": [
    "# Crime Patterns and Arrest Trends Due to SocioEconomic Disparity: A Data Science Analysis\n",
    "\n",
    "## Project Introduction\n",
    "Our project investigates disparities in crime and arrest trends across neighborhoods in NYC, with a focus on how these trends correlate with income levels, race demographics, and geographic location.\n",
    "\n",
    "### Research Questions\n",
    "- Do crime and arrest rates vary by location?\n",
    "- Do areas with lower income experience higher police activity and crime rates?\n",
    "- Do we see similar trends of systematic discrimination in areas with higher population of people of color?\n",
    "\n",
    "### Data Sources\n",
    "We are using multiple public datasets from data.gov including:\n",
    "- **NYPD Shooting Incident Data**\n",
    "- **NYC Crimes 2001–Present**\n",
    "- **NYC Arrests Data**\n",
    "\n",
    "## Project Status\n",
    "Since our check-in proposal slides, there has been a significant change to the project scope. Initially, we planned to analyze crime and arrest trends using datasets from Chicago. However, due to data limitations, we decided to switch our focus to datasets from the NYPD. This change aligns with our original objective of analyzing crime and arrest trends by location, income, and racial demographics, but with a different geographic focus. Aside from this switch, we have not removed or added any major components to the project thus far.\n"
   ]
  },
  {
   "cell_type": "code",
   "execution_count": 150,
   "id": "c7d2a88c-1511-4a3b-bb2f-b5923b14f618",
   "metadata": {},
   "outputs": [],
   "source": [
    "import pandas as pd\n",
    "import numpy as np\n",
    "import re                        \n",
    "from datetime import datetime\n",
    "import zipfile\n",
    "\n",
    "import matplotlib.pyplot as plt   \n",
    "import seaborn as sns\n",
    "import plotly.express as px \n",
    "\n",
    "from sklearn.model_selection import train_test_split\n",
    "from sklearn.preprocessing import StandardScaler, LabelEncoder, OneHotEncoder\n",
    "from sklearn.impute import SimpleImputer          \n",
    "\n",
    "from sklearn.linear_model import LogisticRegression, LinearRegression\n",
    "from sklearn.tree import DecisionTreeClassifier\n",
    "from sklearn.ensemble import RandomForestClassifier\n",
    "from sklearn.svm import SVC\n",
    "from sklearn.naive_bayes import GaussianNB\n",
    "from sklearn.neighbors import KNeighborsClassifier\n",
    "\n",
    "from sklearn.metrics import accuracy_score, confusion_matrix, classification_report\n",
    "from sklearn.metrics import mean_squared_error, r2_score\n"
   ]
  },
  {
   "cell_type": "code",
   "execution_count": 152,
   "id": "095cb9a8-bdf4-4631-b6d6-0095ac0d55fc",
   "metadata": {},
   "outputs": [],
   "source": [
    "with zipfile.ZipFile(\"NYPD_Hate_Crimes.zip\", \"r\") as z:\n",
    "    with z.open(\"NYPD_Hate_Crimes.csv\") as f:\n",
    "        df_hate_crimes = pd.read_csv(f)\n",
    "columns_to_drop = ['Complaint Precinct Code', 'Law Code Category Description',  'PD Code Description','Bias Motive Description','Month Number','Patrol Borough Name','Full Complaint ID'\n",
    "]\n",
    "df_hate_crimes = df_hate_crimes.drop(columns=[col for col in columns_to_drop if col in  df_hate_crimes.columns])\n",
    "df_hate_crimes = df_hate_crimes.drop_duplicates()\n",
    "df_hate_crimes = df_hate_crimes.dropna()\n",
    "#print(df_hate_crimes.head())\n"
   ]
  },
  {
   "cell_type": "code",
   "execution_count": 154,
   "id": "086ef2e9-1ae7-4ece-82b8-465e6577a4da",
   "metadata": {},
   "outputs": [],
   "source": [
    "with zipfile.ZipFile(\"NYPD_Arrest_Data__Year_to_Date_.zip\", \"r\") as z:\n",
    "    with z.open(\"NYPD_Arrest_Data__Year_to_Date_.csv\") as f:\n",
    "        df_arrest = pd.read_csv(f)\n",
    "df_shooting.replace(\"(null)\", np.nan, inplace=True)\n",
    "#print(\"Columns in the Arrest DataFrame:\")\n",
    "#print(df_arrest.columns)\n",
    "columns_to_drop = ['PD_CD', 'PD_DESC', 'KY_CD', 'LAW_CODE', 'LAW_CAT_CD','JURISDICTION_CODE', 'X_COORD_CD', 'Y_COORD_CD','Latitude', 'Longitude', 'New Georeferenced Column'\n",
    "]\n",
    "columns_to_drop = [col for col in columns_to_drop if col in df_arrest.columns]\n",
    "#print(f\"Columns to drop: {columns_to_drop}\")\n",
    "df_arrest.drop(columns=columns_to_drop, inplace=True)\n",
    "df_arrest.dropna(inplace=True)\n",
    "#print(\"Cleaned Arrest DataFrame:\")\n",
    "#print(df_arrest.head())"
   ]
  },
  {
   "cell_type": "code",
   "execution_count": 155,
   "id": "73fccdd7-67d7-4364-b3d9-81e1939755d9",
   "metadata": {},
   "outputs": [],
   "source": [
    "df_shooting = pd.read_csv(\"NYPD_shooting_incident_data__Historic__.csv\")\n",
    "df_shooting.replace(\"(null)\", np.nan, inplace=True)\n",
    "columns_to_keep = ['OCCUR_DATE', 'BORO', 'VIC_RACE', 'VIC_AGE_GROUP', 'VIC_SEX', 'PERP_SEX', 'PERP_RACE', 'PRECINCT']\n",
    "df_shooting = df_shooting[columns_to_keep]\n",
    "df_shooting.dropna(inplace=True)\n",
    "#print(df_shooting.head())"
   ]
  },
  {
   "cell_type": "code",
   "execution_count": 157,
   "id": "73f3f046-b300-4a0d-99cb-c71c5bc97a0c",
   "metadata": {},
   "outputs": [
    {
     "name": "stdout",
     "output_type": "stream",
     "text": [
      "   ARREST_KEY       DATE OFNS_DESC       BORO  ARREST_PRECINCT AGE_GROUP  \\\n",
      "0         NaN 2006-01-01       NaN      BRONX              NaN       NaN   \n",
      "1         NaN 2006-01-01       NaN      BRONX              NaN       NaN   \n",
      "2         NaN 2006-01-01       NaN   BROOKLYN              NaN       NaN   \n",
      "3         NaN 2006-01-01       NaN  MANHATTAN              NaN       NaN   \n",
      "4         NaN 2006-01-01       NaN     QUEENS              NaN       NaN   \n",
      "\n",
      "  PERP_SEX_x PERP_RACE_x        VIC_RACE VIC_AGE_GROUP VIC_SEX PERP_SEX_y  \\\n",
      "0        NaN         NaN           BLACK           <18       M          M   \n",
      "1        NaN         NaN  WHITE HISPANIC         18-24       M          M   \n",
      "2        NaN         NaN           BLACK         18-24       M          U   \n",
      "3        NaN         NaN           BLACK         25-44       M          M   \n",
      "4        NaN         NaN           BLACK         25-44       M          M   \n",
      "\n",
      "      PERP_RACE_y  PRECINCT  Complaint Year Number Record Create Date  \\\n",
      "0           BLACK      48.0                    NaN                NaN   \n",
      "1  WHITE HISPANIC      44.0                    NaN                NaN   \n",
      "2         UNKNOWN      67.0                    NaN                NaN   \n",
      "3           BLACK      28.0                    NaN                NaN   \n",
      "4           BLACK     114.0                    NaN                NaN   \n",
      "\n",
      "  Offense Description Offense Category Arrest Id  \n",
      "0                 NaN              NaN       NaN  \n",
      "1                 NaN              NaN       NaN  \n",
      "2                 NaN              NaN       NaN  \n",
      "3                 NaN              NaN       NaN  \n",
      "4                 NaN              NaN       NaN  \n"
     ]
    }
   ],
   "source": [
    "df_hate_crimes.rename(columns={'Arrest Date': 'DATE', 'County': 'BORO'}, inplace=True)\n",
    "df_hate_crimes['DATE'] = pd.to_datetime(df_hate_crimes['DATE'])\n",
    "\n",
    "df_arrest.rename(columns={'ARREST_DATE': 'DATE', 'ARREST_BORO': 'BORO'}, inplace=True)\n",
    "df_arrest['DATE'] = pd.to_datetime(df_arrest['DATE'])\n",
    "\n",
    "df_shooting.rename(columns={'OCCUR_DATE': 'DATE'}, inplace=True)\n",
    "df_shooting['DATE'] = pd.to_datetime(df_shooting['DATE'])\n",
    " \n",
    "merged_df = pd.merge(df_arrest, df_shooting, on=['DATE', 'BORO'], how='outer')\n",
    "merged_df = pd.merge(merged_df, df_hate_crimes, on=['DATE', 'BORO'], how='outer')\n",
    "\n",
    "#print(merged_df.head())\n",
    "merged_df.to_csv(\"merged_nypd_data.csv\", index=False)\n",
    "print(merged_df.head())"
   ]
  },
  {
   "cell_type": "code",
   "execution_count": 159,
   "id": "6efb3169-8392-4999-beff-c4b520e2142b",
   "metadata": {},
   "outputs": [],
   "source": [
    "# Count the occurrences of each race in the PERP_RACE_y column\n",
    "race_counts = merged_df['PERP_RACE_y'].value_counts()\n",
    "\n",
    "# Display the counts of each race\n",
    "#print(race_counts)"
   ]
  },
  {
   "cell_type": "code",
   "execution_count": 160,
   "id": "16392ba0-ed27-49c7-8482-6565ac04c1ba",
   "metadata": {},
   "outputs": [],
   "source": [
    "# Count the occurrences of each race in the VIC_RACE column\n",
    "race_counts = merged_df['VIC_RACE'].value_counts()\n",
    "\n",
    "# Display the counts of each race\n",
    "#print(race_counts)"
   ]
  },
  {
   "cell_type": "code",
   "execution_count": 161,
   "id": "0e59c590-5825-4303-9ae8-4bfcc9b10c15",
   "metadata": {},
   "outputs": [],
   "source": [
    "sex_counts = merged_df['PERP_SEX_y'].value_counts()\n",
    "#print(sex_counts)"
   ]
  },
  {
   "cell_type": "code",
   "execution_count": 162,
   "id": "d36b1236-12a8-4e0d-9959-d8de076692b1",
   "metadata": {},
   "outputs": [],
   "source": [
    "age_group_counts = merged_df['AGE_GROUP'].value_counts()\n",
    "#print(age_group_counts)"
   ]
  },
  {
   "cell_type": "code",
   "execution_count": 163,
   "id": "a7763bd5-d092-4ed4-8bc0-890fdcb9e41c",
   "metadata": {},
   "outputs": [],
   "source": [
    "age_group_counts = merged_df['AGE_GROUP'].value_counts()\n",
    "#print(age_group_counts)"
   ]
  },
  {
   "cell_type": "code",
   "execution_count": 164,
   "id": "61d31644-516a-47a6-b88e-22efdffb7d53",
   "metadata": {},
   "outputs": [],
   "source": [
    "# Standardize the BORO column to have full borough names\n",
    "merged_df['BORO'] = merged_df['BORO'].replace({\n",
    "    'K': 'BROOKLYN', \n",
    "    'M': 'MANHATTAN', \n",
    "    'B': 'BRONX', \n",
    "    'Q': 'QUEENS', \n",
    "    'S': 'STATEN ISLAND',\n",
    "    'KINGS': 'BROOKLYN',\n",
    "    'NEW YORK': 'MANHATTAN',\n",
    "    'RICHMOND': 'STATEN ISLAND'\n",
    "})\n",
    "\n",
    "# Now print the clean borough counts\n",
    "boro_counts = merged_df['BORO'].value_counts()\n",
    "#print(boro_counts)"
   ]
  },
  {
   "cell_type": "code",
   "execution_count": 172,
   "id": "e40fca0f-3a22-4303-8a66-dfe9df67a39c",
   "metadata": {},
   "outputs": [],
   "source": [
    "offense_desc_counts = merged_df['OFNS_DESC'].value_counts()\n",
    "#print(offense_desc_counts)"
   ]
  },
  {
   "cell_type": "code",
   "execution_count": 173,
   "id": "5981adfc-073d-4dfd-a40c-3fd5258db041",
   "metadata": {},
   "outputs": [],
   "source": [
    "precinct_counts = merged_df['PRECINCT'].value_counts()\n",
    "#print(precinct_counts)"
   ]
  },
  {
   "cell_type": "markdown",
   "id": "25d9507d-51d5-460c-94a4-3c3e89d966a7",
   "metadata": {},
   "source": [
    "# Exploratory Data Analysis: Merged DATASET\n",
    "\n",
    "In this exploratory data analysis (EDA), we examine a dataset containing arrest records from New York City (NYC). The dataset includes various columns related to arrests, perpetrators, victims, and locations. Below, we describe the data's structure, highlight its key characteristics, present visualization, discuss interesting issues, and offer preliminary conclusions based on the provided sample.\n",
    "\n",
    "#### Total Dataset Overview\n",
    "- **Total number of rows:** 280,007\n",
    "- **Total number of columns:** 19\n",
    "\n",
    "\n",
    "#### Data Description\n",
    "The dataset contains the following columns:\n",
    "\n",
    "- **ARREST_KEY:** A unique identifier for each arrest.\n",
    "- **DATE:** The date of the arrest or incident.\n",
    "- **OFNS_DESC:** Offense description.\n",
    "- **BORO:** The NYC borough where the arrest occurred.\n",
    "- **ARREST_PRECINCT:** The precinct where the arrest was made.\n",
    "- **AGE_GROUP:** Age group of the perpetrator.\n",
    "- **PERP_SEX_x:** Sex of the perpetrator.\n",
    "- **PERP_RACE_x:** Race of the perpetrator.\n",
    "- **VIC_RACE:** Race of the victim.\n",
    "- **VIC_AGE_GROUP:** Age group of the victim.\n",
    "- **VIC_SEX:** Sex of the victim.\n",
    "- **PERP_SEX_y:** Another column for perpetrator sex.\n",
    "- **PERP_RACE_y:** Another column for perpetrator race.\n",
    "- **PRECINCT:** Precinct number, likely related to the incident.\n",
    "- **Complaint Year Number:** Year of the complaint.\n",
    "- **Record Create Date:** Date the record was created.\n",
    "- **Offense Description:** Detailed offense description.\n",
    "- **Offense Category:** Category of the offense.\n",
    "- **Arrest Id:** Another identifier for the arrest.\n",
    "\n",
    "#### FINDINGS OF MERGED DATA \n",
    "##### 1. **Racial Distribution of Crime Perpetrators(PERP_RACE_y)?**\n",
    "The most common race among perpetrators is **BLACK**, followed by **WHITE HISPANIC** and **UNKNOWN**. Here are the number of crimes committed by each race:\n",
    "- **BLACK:** 11,967 incidents\n",
    "- **WHITE HISPANIC:** 2,517 incidents\n",
    "- **UNKNOWN:** 1,837 incidents\n",
    "- **BLACK HISPANIC:** 1,398 incidents\n",
    "- **WHITE:** 298 incidents\n",
    "- **ASIAN / PACIFIC ISLANDER:** 170 incidents\n",
    "- **AMERICAN INDIAN/ALASKAN NATIVE:** 2 incidents\n",
    "\n",
    "##### 2. **Racial Distribution of Crime Victims (VIC_RACE)**\n",
    "The most common race among victims is **BLACK**, followed by **WHITE HISPANIC** and **BLACK HISPANIC**. Here are the number of crimes committed against each race:\n",
    "- **BLACK:** 12,335 victims\n",
    "- **WHITE HISPANIC:** 3,064 victims\n",
    "- **BLACK HISPANIC:** 1,852 victims\n",
    "- **WHITE:** 563 victims\n",
    "- **ASIAN / PACIFIC ISLANDER:** 316 victims\n",
    "- **UNKNOWN:** 51 victims\n",
    "- **AMERICAN INDIAN/ALASKAN NATIVE:** 8 victims\n",
    "\n",
    "##### 3. **Borough Distribution:**\n",
    "Crimes are distributed across multiple boroughs, with the highest number of arrests occurring in:\n",
    "- **Brooklyn (K):** 72,325 incidents\n",
    "- **Manhattan (M):** 61,969 incidents\n",
    "- **Bronx (B):** 58,521 incidents\n",
    "- **Queens (Q):** 56,633 incidents\n",
    "- **Staten Island (S):** 11,055 incidents\n",
    "Smaller boroughs like **Richmond** (40 incidents) and **Kings** (507 incidents) have fewer arrests.\n",
    "\n",
    "##### 4. **Age Group Distribution:**\n",
    "The age group distribution shows that the **25-44** age group is most involved in criminal incidents, followed by **45-64** and **18-24**:\n",
    "- **25-44 years:** 152,034 incidents\n",
    "- **45-64 years:** 51,121 incidents\n",
    "- **18-24 years:** 43,174 incidents\n",
    "- **Under 18 years:** 9,525 incidents\n",
    "- **65+ years:** 4,649 incidents\n",
    "\n",
    "## Preliminary Conclusions\n",
    "- **Victim Profile:** Most victims are male, with **Black** being the most common race among victims in the sample.\n",
    "- **Perpetrator Profile:** Perpetrators are predominantly **male**, and the most common races among perpetrators are **Black** and **White Hispanic**.\n",
    "- **Geographical Spread:** Arrests are spread across the boroughs, with the highest number occurring in **Brooklyn**, **Manhattan**, and **Bronx**. Smaller boroughs like **Staten Island** show fewer incidents.\n",
    "- **Age Distribution:** The **25-44** age group represents the largest portion of crimes, followed by **45-64** and **18-24**. The youngest age group (**<18**) and oldest group (**65+**) represent a significantly smaller portion of the data."
   ]
  },
  {
   "cell_type": "code",
   "execution_count": 177,
   "id": "f45b1fd9-e770-43ae-83a4-c1f37fcbac62",
   "metadata": {},
   "outputs": [
    {
     "data": {
      "image/png": "[encoded data removed]",
      "text/plain": [
       "<Figure size 1000x400 with 1 Axes>"
      ]
     },
     "metadata": {},
     "output_type": "display_data"
    }
   ],
   "source": [
    "merge_race_boro = merged_df[['PERP_RACE_x', 'BORO']].dropna()\n",
    "merge_race_boro_counts = merge_race_boro.groupby(['PERP_RACE_x', 'BORO']).size().reset_index(name='Arrest Count')\n",
    "\n",
    "plt.figure(figsize=(10, 4))\n",
    "sns.barplot(data=merge_race_boro_counts, x='PERP_RACE_x', y='Arrest Count', hue='BORO', palette='Set1')\n",
    "\n",
    "plt.title('Are racially-biased arrests higher in certain NYC Boroughs?' )\n",
    "plt.xlabel('Race')\n",
    "plt.ylabel('Number of Arrests')\n",
    "plt.xticks(fontsize=6)\n",
    "plt.tight_layout()\n",
    "plt.show()"
   ]
  },
  {
   "cell_type": "code",
   "execution_count": null,
   "id": "01286d8e-7e71-445f-a4ff-c7342224c058",
   "metadata": {},
   "outputs": [],
   "source": []
  }
 ],
 "metadata": {
  "kernelspec": {
   "display_name": "Python [conda env:base] *",
   "language": "python",
   "name": "conda-base-py"
  },
  "language_info": {
   "codemirror_mode": {
    "name": "ipython",
    "version": 3
   },
   "file_extension": ".py",
   "mimetype": "text/x-python",
   "name": "python",
   "nbconvert_exporter": "python",
   "pygments_lexer": "ipython3",
   "version": "3.12.7"
  }
 },
 "nbformat": 4,
 "nbformat_minor": 5
}
